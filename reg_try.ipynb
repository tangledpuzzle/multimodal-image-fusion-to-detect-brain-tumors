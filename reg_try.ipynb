{
 "cells": [
  {
   "cell_type": "code",
   "execution_count": 8,
   "metadata": {},
   "outputs": [
    {
     "name": "stdout",
     "output_type": "stream",
     "text": [
      "Populating the interactive namespace from numpy and matplotlib\n"
     ]
    }
   ],
   "source": [
    "# !pip install SimpleITK\n",
    "# !pip install SimpleElastix\n",
    "import SimpleITK as sitk\n",
    "import os\n",
    "import numpy\n",
    "import SimpleITK\n",
    "import matplotlib.pyplot as plt\n",
    "%pylab inline\n",
    "\n",
    "# image libraries\n",
    "# !pip install imageio\n",
    "# !pip install scipy\n",
    "# !pip install Image\n",
    "# !pip install pydicom\n",
    "\n",
    "import imageio\n",
    "import scipy.ndimage as ndi\n",
    "\n",
    "# import Image\n",
    "\n",
    "import pydicom\n",
    "from pydicom.data import get_testdata_files"
   ]
  },
  {
   "cell_type": "code",
   "execution_count": 2,
   "metadata": {},
   "outputs": [],
   "source": [
    "ct=imageio.imread('ct.dcm')"
   ]
  },
  {
   "cell_type": "code",
   "execution_count": 3,
   "metadata": {},
   "outputs": [
    {
     "data": {
      "text/plain": [
       "(512, 512)"
      ]
     },
     "execution_count": 3,
     "metadata": {},
     "output_type": "execute_result"
    }
   ],
   "source": [
    "ct.shape"
   ]
  },
  {
   "cell_type": "code",
   "execution_count": 4,
   "metadata": {},
   "outputs": [],
   "source": [
    "mri=imageio.imread('mri.dcm')"
   ]
  },
  {
   "cell_type": "code",
   "execution_count": 5,
   "metadata": {},
   "outputs": [
    {
     "data": {
      "text/plain": [
       "(256, 256)"
      ]
     },
     "execution_count": 5,
     "metadata": {},
     "output_type": "execute_result"
    }
   ],
   "source": [
    "mri.shape"
   ]
  },
  {
   "cell_type": "code",
   "execution_count": 6,
   "metadata": {},
   "outputs": [],
   "source": [
    "# mat=[[0.5,0,0],[0,0.5,0],[0,0,1]]\n",
    "# ct_scale=ndi.affine_transform(ct,mat)"
   ]
  },
  {
   "cell_type": "code",
   "execution_count": 16,
   "metadata": {},
   "outputs": [
    {
     "data": {
      "text/plain": [
       "Dict([('TransferSyntaxUID', '1.2.840.10008.1.2.1'),\n",
       "      ('SOPClassUID', '1.2.840.10008.5.1.4.1.1.2'),\n",
       "      ('SOPInstanceUID',\n",
       "       '1.3.6.1.4.1.14519.5.2.1.7009.2402.251755332880503774971509481254'),\n",
       "      ('StudyDate', '19600105'),\n",
       "      ('SeriesDate', '19600105'),\n",
       "      ('AcquisitionDate', '19600105'),\n",
       "      ('ContentDate', '19600105'),\n",
       "      ('StudyTime', '134528'),\n",
       "      ('SeriesTime', '134643'),\n",
       "      ('AcquisitionTime', '134659'),\n",
       "      ('ContentTime', '134734'),\n",
       "      ('Modality', 'CT'),\n",
       "      ('Manufacturer', 'GE MEDICAL SYSTEMS'),\n",
       "      ('StudyDescription', 'NM PET RESEARCH REPORT'),\n",
       "      ('SeriesDescription', 'CT Atten Cor 3D'),\n",
       "      ('PatientName', 'ACRIN-FMISO-Brain-007'),\n",
       "      ('PatientID', 'ACRIN-FMISO-Brain-007'),\n",
       "      ('PatientBirthDate', ''),\n",
       "      ('PatientSex', 'F '),\n",
       "      ('PatientAge', '048Y'),\n",
       "      ('PatientSize', 1.57),\n",
       "      ('PatientWeight', 90.0),\n",
       "      ('StudyInstanceUID',\n",
       "       '1.3.6.1.4.1.14519.5.2.1.7009.2402.469043371012588004608900637515'),\n",
       "      ('SeriesInstanceUID',\n",
       "       '1.3.6.1.4.1.14519.5.2.1.7009.2402.205793754679285455260524381370'),\n",
       "      ('SeriesNumber', 2),\n",
       "      ('AcquisitionNumber', 1),\n",
       "      ('InstanceNumber', 23),\n",
       "      ('ImagePositionPatient', (-250.0, -250.0, -111.5)),\n",
       "      ('ImageOrientationPatient', (1.0, 0.0, 0.0, 0.0, 1.0, 0.0)),\n",
       "      ('SamplesPerPixel', 1),\n",
       "      ('Rows', 512),\n",
       "      ('Columns', 512),\n",
       "      ('PixelSpacing', (0.976562, 0.976562)),\n",
       "      ('BitsAllocated', 16),\n",
       "      ('BitsStored', 16),\n",
       "      ('HighBit', 15),\n",
       "      ('PixelRepresentation', 1),\n",
       "      ('RescaleIntercept', -1024.0),\n",
       "      ('RescaleSlope', 1.0),\n",
       "      ('PixelData',\n",
       "       b'Data converted to numpy array, raw data removed to preserve memory'),\n",
       "      ('shape', (512, 512)),\n",
       "      ('sampling', (0.976562, 0.976562))])"
      ]
     },
     "execution_count": 16,
     "metadata": {},
     "output_type": "execute_result"
    }
   ],
   "source": [
    "# ct_scale.shape\n",
    "ct.meta"
   ]
  },
  {
   "cell_type": "code",
   "execution_count": 17,
   "metadata": {},
   "outputs": [],
   "source": [
    "ct.meta.shape=(256,256)"
   ]
  },
  {
   "cell_type": "code",
   "execution_count": 19,
   "metadata": {},
   "outputs": [
    {
     "data": {
      "text/plain": [
       "(256, 256)"
      ]
     },
     "execution_count": 19,
     "metadata": {},
     "output_type": "execute_result"
    }
   ],
   "source": [
    "ct.meta.shape"
   ]
  },
  {
   "cell_type": "code",
   "execution_count": 21,
   "metadata": {},
   "outputs": [
    {
     "ename": "ValueError",
     "evalue": "cannot reshape array of size 262144 into shape (256,256)",
     "output_type": "error",
     "traceback": [
      "\u001b[1;31m---------------------------------------------------------------------------\u001b[0m",
      "\u001b[1;31mValueError\u001b[0m                                Traceback (most recent call last)",
      "\u001b[1;32m<ipython-input-21-9e24fc031414>\u001b[0m in \u001b[0;36m<module>\u001b[1;34m\u001b[0m\n\u001b[1;32m----> 1\u001b[1;33m \u001b[0mct\u001b[0m\u001b[1;33m.\u001b[0m\u001b[0mshape\u001b[0m\u001b[1;33m=\u001b[0m\u001b[1;33m(\u001b[0m\u001b[1;36m256\u001b[0m\u001b[1;33m,\u001b[0m\u001b[1;36m256\u001b[0m\u001b[1;33m)\u001b[0m\u001b[1;33m\u001b[0m\u001b[1;33m\u001b[0m\u001b[0m\n\u001b[0m",
      "\u001b[1;31mValueError\u001b[0m: cannot reshape array of size 262144 into shape (256,256)"
     ]
    }
   ],
   "source": [
    "ct.shape=(256,256)"
   ]
  },
  {
   "cell_type": "code",
   "execution_count": null,
   "metadata": {},
   "outputs": [],
   "source": []
  }
 ],
 "metadata": {
  "kernelspec": {
   "display_name": "Python 3",
   "language": "python",
   "name": "python3"
  },
  "language_info": {
   "codemirror_mode": {
    "name": "ipython",
    "version": 3
   },
   "file_extension": ".py",
   "mimetype": "text/x-python",
   "name": "python",
   "nbconvert_exporter": "python",
   "pygments_lexer": "ipython3",
   "version": "3.7.1"
  }
 },
 "nbformat": 4,
 "nbformat_minor": 2
}
