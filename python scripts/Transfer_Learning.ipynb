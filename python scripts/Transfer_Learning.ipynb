{
 "cells": [
  {
   "cell_type": "code",
   "execution_count": 1,
   "metadata": {},
   "outputs": [
    {
     "name": "stdout",
     "output_type": "stream",
     "text": [
      "Looking in links: https://download.pytorch.org/whl/torch_stable.html\n",
      "Requirement already satisfied: torch==1.4.0+cpu in c:\\programdata\\anaconda3\\lib\\site-packages (1.4.0+cpu)\n",
      "Requirement already satisfied: torchvision==0.5.0+cpu in c:\\programdata\\anaconda3\\lib\\site-packages (0.5.0+cpu)\n",
      "Requirement already satisfied: six in c:\\programdata\\anaconda3\\lib\\site-packages (from torchvision==0.5.0+cpu) (1.12.0)\n",
      "Requirement already satisfied: pillow>=4.1.1 in c:\\programdata\\anaconda3\\lib\\site-packages (from torchvision==0.5.0+cpu) (6.2.0)\n",
      "Requirement already satisfied: numpy in c:\\programdata\\anaconda3\\lib\\site-packages (from torchvision==0.5.0+cpu) (1.16.5)\n"
     ]
    }
   ],
   "source": [
    "!pip install torch==1.4.0+cpu torchvision==0.5.0+cpu -f https://download.pytorch.org/whl/torch_stable.html"
   ]
  },
  {
   "cell_type": "code",
   "execution_count": 1,
   "metadata": {},
   "outputs": [],
   "source": [
    "import argparse\n",
    "import cv2\n",
    "import numpy as np\n",
    "import torch\n",
    "import torch.nn as nn\n",
    "import torch.nn.functional as F\n",
    "from torchvision.models.vgg import vgg19"
   ]
  },
  {
   "cell_type": "code",
   "execution_count": 2,
   "metadata": {},
   "outputs": [],
   "source": [
    "class VGG19(torch.nn.Module):\n",
    "    def __init__(self, device='cpu'):\n",
    "        super(VGG19, self).__init__()\n",
    "        features = list(vgg19(pretrained=True).features)\n",
    "        if device == \"cuda\":\n",
    "            self.features = nn.ModuleList(features).cuda().eval()\n",
    "        else:\n",
    "            self.features = nn.ModuleList(features).eval()\n",
    "\n",
    "    def forward(self, x):\n",
    "        feature_maps = []\n",
    "        for idx, layer in enumerate(self.features):\n",
    "            x = layer(x)\n",
    "            if idx == 3:\n",
    "                feature_maps.append(x)\n",
    "        return feature_maps"
   ]
  },
  {
   "cell_type": "code",
   "execution_count": 3,
   "metadata": {},
   "outputs": [],
   "source": [
    "class Fusion:\n",
    "    def __init__(self, input):\n",
    "        \"\"\"\n",
    "        Class Fusion constructor\n",
    "\n",
    "        Instance Variables:\n",
    "            self.images: input images\n",
    "            self.model: CNN model, default=vgg19\n",
    "            self.device: either 'cuda' or 'cpu'\n",
    "        \"\"\"\n",
    "        self.input_images = input\n",
    "        self.device = torch.device(\"cuda\" if torch.cuda.is_available() else \"cpu\")\n",
    "        self.model = VGG19(self.device)\n",
    "\n",
    "    def fuse(self):\n",
    "        \"\"\"\n",
    "        A top level method which fuse self.images\n",
    "        \"\"\"\n",
    "        # Convert all images to YCbCr format\n",
    "        self.normalized_images = [-1 for img in self.input_images]\n",
    "        self.YCbCr_images = [-1 for img in self.input_images]\n",
    "        for idx, img in enumerate(self.input_images):\n",
    "            if not self._is_gray(img):\n",
    "                self.YCbCr_images[idx] = self._RGB_to_YCbCr(img)\n",
    "                self.normalized_images[idx] = self.YCbCr_images[idx][:, :, 0]\n",
    "            else:\n",
    "                self.normalized_images[idx] = img / 255.\n",
    "        # Transfer all images to PyTorch tensors\n",
    "        self._tranfer_to_tensor()\n",
    "        # Perform fuse strategy\n",
    "        fused_img = self._fuse()[:, :, 0]\n",
    "        # Reconstruct fused image given rgb input images\n",
    "        for idx, img in enumerate(self.input_images):\n",
    "            if not self._is_gray(img):\n",
    "                self.YCbCr_images[idx][:, :, 0] = fused_img\n",
    "                fused_img = self._YCbCr_to_RGB(self.YCbCr_images[idx])\n",
    "                fused_img = np.clip(fused_img, 0, 1)\n",
    "\n",
    "        return (fused_img * 255).astype(np.uint8)\n",
    "        # return fused_img\n",
    "\n",
    "    def _fuse(self):\n",
    "        \"\"\"\n",
    "        Perform fusion algorithm\n",
    "        \"\"\"\n",
    "        with torch.no_grad():\n",
    "\n",
    "            imgs_sum_maps = [-1 for tensor_img in self.images_to_tensors]\n",
    "            for idx, tensor_img in enumerate(self.images_to_tensors):\n",
    "                imgs_sum_maps[idx] = []\n",
    "                feature_maps = self.model(tensor_img)\n",
    "                for feature_map in feature_maps:\n",
    "                    sum_map = torch.sum(feature_map, dim=1, keepdim=True)\n",
    "                    imgs_sum_maps[idx].append(sum_map)\n",
    "\n",
    "            max_fusion = None\n",
    "            for sum_maps in zip(*imgs_sum_maps):\n",
    "                features = torch.cat(sum_maps, dim=1)\n",
    "                weights = self._softmax(F.interpolate(features,\n",
    "                                        size=self.images_to_tensors[0].shape[2:]))\n",
    "                weights = F.interpolate(weights,\n",
    "                                        size=self.images_to_tensors[0].shape[2:])\n",
    "                current_fusion = torch.zeros(self.images_to_tensors[0].shape)\n",
    "                for idx, tensor_img in enumerate(self.images_to_tensors):\n",
    "                    current_fusion += tensor_img * weights[:,idx]\n",
    "                if max_fusion is None:\n",
    "                    max_fusion = current_fusion\n",
    "                else:\n",
    "                    max_fusion = torch.max(max_fusion, current_fusion)\n",
    "\n",
    "            output = np.squeeze(max_fusion.cpu().numpy())\n",
    "            if output.ndim == 3:\n",
    "                output = np.transpose(output, (1, 2, 0))\n",
    "            return output\n",
    "        \n",
    "        \n",
    "    def _RGB_to_YCbCr(self, img_RGB):\n",
    "            \"\"\"\n",
    "            A private method which converts an RGB image to YCrCb format\n",
    "            \"\"\"\n",
    "            img_RGB = img_RGB.astype(np.float32) / 255.\n",
    "            return cv2.cvtColor(img_RGB, cv2.COLOR_RGB2YCrCb)\n",
    "\n",
    "    def _YCbCr_to_RGB(self, img_YCbCr):\n",
    "            \"\"\"\n",
    "            A private method which converts a YCrCb image to RGB format\n",
    "            \"\"\"\n",
    "            img_YCbCr = img_YCbCr.astype(np.float32)\n",
    "            return cv2.cvtColor(img_YCbCr, cv2.COLOR_YCrCb2RGB)\n",
    "\n",
    "    def _is_gray(self, img):\n",
    "            \"\"\"\n",
    "            A private method which returns True if image is gray, otherwise False\n",
    "            \"\"\"\n",
    "            if len(img.shape) < 3:\n",
    "                return True\n",
    "            if img.shape[2] == 1:\n",
    "                return True\n",
    "            b, g, r = img[:,:,0], img[:,:,1], img[:,:,2]\n",
    "            if (b == g).all() and (b == r).all():\n",
    "                return True\n",
    "            return False\n",
    "\n",
    "    def _softmax(self, tensor):\n",
    "            \"\"\"\n",
    "            A private method which compute softmax ouput of a given tensor\n",
    "            \"\"\"\n",
    "            tensor = torch.exp(tensor)\n",
    "            tensor = tensor / tensor.sum(dim=1, keepdim=True)\n",
    "            return tensor\n",
    "\n",
    "    def _tranfer_to_tensor(self):\n",
    "            \"\"\"\n",
    "            A private method to transfer all input images to PyTorch tensors\n",
    "            \"\"\"\n",
    "            self.images_to_tensors = []\n",
    "            for image in self.normalized_images:\n",
    "                np_input = image.astype(np.float32)\n",
    "                if np_input.ndim == 2:\n",
    "                    np_input = np.repeat(np_input[None, None], 3, axis=1)\n",
    "                else:\n",
    "                    np_input = np.transpose(np_input, (2, 0, 1))[None]\n",
    "                if self.device == \"cuda\":\n",
    "                    self.images_to_tensors.append(torch.from_numpy(np_input).cuda())\n",
    "                else:\n",
    "                    self.images_to_tensors.append(torch.from_numpy(np_input)) "
   ]
  },
  {
   "cell_type": "code",
   "execution_count": 9,
   "metadata": {},
   "outputs": [
    {
     "name": "stdout",
     "output_type": "stream",
     "text": [
      "Requirement already satisfied: PyWavelets in c:\\users\\kushal\\anaconda3\\lib\\site-packages (1.0.1)\n",
      "Requirement already satisfied: numpy>=1.9.1 in c:\\users\\kushal\\anaconda3\\lib\\site-packages (from PyWavelets) (1.15.4)\n"
     ]
    }
   ],
   "source": [
    "!pip install PyWavelets"
   ]
  },
  {
   "cell_type": "code",
   "execution_count": 4,
   "metadata": {},
   "outputs": [],
   "source": [
    "import numpy as np\n",
    "import matplotlib.pyplot as plt\n",
    "\n",
    "import pywt\n",
    "import pywt.data"
   ]
  },
  {
   "cell_type": "code",
   "execution_count": 31,
   "metadata": {},
   "outputs": [
    {
     "data": {
      "image/png": "[encoded data removed]",
      "text/plain": [
       "<Figure size 864x216 with 4 Axes>"
      ]
     },
     "metadata": {},
     "output_type": "display_data"
    }
   ],
   "source": [
    "# Load MRI image\n",
    "mri_image = cv2.imread('jpg/mri_registered.jpg')\n",
    "mri_image = cv2.cvtColor(mri_image, cv2.COLOR_BGR2GRAY)\n",
    "\n",
    "# Wavelet transform of image, and plot approximation and details\n",
    "titles = ['Approximation', ' Horizontal detail',\n",
    "          'Vertical detail', 'Diagonal detail']\n",
    "coeffs2 = pywt.dwt2(mri_image, 'haar')\n",
    "\n",
    "LL, (LH, HL, HH) = coeffs2\n",
    "\n",
    "fig = plt.figure(figsize=(12, 3))\n",
    "for i, a in enumerate([LL, LH, HL, HH]):\n",
    "    ax = fig.add_subplot(1, 4, i + 1)\n",
    "    ax.imshow(a, interpolation=\"nearest\", cmap=plt.cm.gray)\n",
    "    path='jpg/mri_'+str(i)+'.jpg'\n",
    "    cv2.imwrite(path,a)\n",
    "    ax.set_title(titles[i], fontsize=10)\n",
    "    ax.set_xticks([])\n",
    "    ax.set_yticks([])\n",
    "\n",
    "fig.tight_layout()\n",
    "plt.show()"
   ]
  },
  {
   "cell_type": "code",
   "execution_count": 32,
   "metadata": {},
   "outputs": [
    {
     "data": {
      "image/png": "[encoded data removed]",
      "text/plain": [
       "<Figure size 864x216 with 4 Axes>"
      ]
     },
     "metadata": {},
     "output_type": "display_data"
    }
   ],
   "source": [
    "# Load CT Image\n",
    "ct_image = cv2.imread('jpg/ct.jpg')\n",
    "ct_image = cv2.cvtColor(ct_image, cv2.COLOR_BGR2GRAY)\n",
    "\n",
    "# Wavelet transform of image, and plot approximation and details\n",
    "titles = ['Approximation', ' Horizontal detail',\n",
    "          'Vertical detail', 'Diagonal detail']\n",
    "coeffs2 = pywt.dwt2(ct_image, 'haar')\n",
    "\n",
    "LL, (LH, HL, HH) = coeffs2\n",
    "\n",
    "fig = plt.figure(figsize=(12, 3))\n",
    "for i, a in enumerate([LL, LH, HL, HH]):\n",
    "    ax = fig.add_subplot(1, 4, i + 1)\n",
    "    ax.imshow(a, interpolation=\"nearest\", cmap=plt.cm.gray)\n",
    "    path='jpg/ct_'+str(i)+'.jpg'\n",
    "    cv2.imwrite(path,a)\n",
    "    ax.set_title(titles[i], fontsize=10)\n",
    "    ax.set_xticks([])\n",
    "    ax.set_yticks([])\n",
    "\n",
    "fig.tight_layout()\n",
    "plt.show()"
   ]
  },
  {
   "cell_type": "markdown",
   "metadata": {},
   "source": [
    "#### Run VGG19 on the 4 bands of Images"
   ]
  },
  {
   "cell_type": "code",
   "execution_count": 33,
   "metadata": {},
   "outputs": [
    {
     "data": {
      "text/plain": [
       "True"
      ]
     },
     "execution_count": 33,
     "metadata": {},
     "output_type": "execute_result"
    }
   ],
   "source": [
    "# Calling the methods for Siamese on LL Images\n",
    "input_images = []\n",
    "mri = cv2.imread('jpg/mri_0.jpg')\n",
    "mri = cv2.cvtColor(mri, cv2.COLOR_BGR2GRAY)\n",
    "\n",
    "ct = cv2.imread('jpg/ct_0.jpg')\n",
    "ct = cv2.cvtColor(ct, cv2.COLOR_BGR2GRAY)\n",
    "\n",
    "input_images.append(mri)\n",
    "input_images.append(ct)\n",
    "\n",
    "# Compute fusion image\n",
    "FU = Fusion(input_images)\n",
    "fusion_img = FU.fuse()\n",
    "# Write fusion image\n",
    "cv2.imwrite('jpg/fusion_0.jpg', fusion_img)"
   ]
  },
  {
   "cell_type": "code",
   "execution_count": 34,
   "metadata": {},
   "outputs": [
    {
     "data": {
      "text/plain": [
       "True"
      ]
     },
     "execution_count": 34,
     "metadata": {},
     "output_type": "execute_result"
    }
   ],
   "source": [
    "# Calling the methods for Siamese on LH Images\n",
    "input_images = []\n",
    "mri = cv2.imread('jpg/mri_1.jpg')\n",
    "mri = cv2.cvtColor(mri, cv2.COLOR_BGR2GRAY)\n",
    "\n",
    "ct = cv2.imread('jpg/ct_1.jpg')\n",
    "ct = cv2.cvtColor(ct, cv2.COLOR_BGR2GRAY)\n",
    "\n",
    "input_images.append(mri)\n",
    "input_images.append(ct)\n",
    "\n",
    "# Compute fusion image\n",
    "FU = Fusion(input_images)\n",
    "fusion_img = FU.fuse()\n",
    "# Write fusion image\n",
    "cv2.imwrite('jpg/fusion_1.jpg', fusion_img)"
   ]
  },
  {
   "cell_type": "code",
   "execution_count": 35,
   "metadata": {},
   "outputs": [
    {
     "data": {
      "text/plain": [
       "True"
      ]
     },
     "execution_count": 35,
     "metadata": {},
     "output_type": "execute_result"
    }
   ],
   "source": [
    "# Calling the methods for Siamese on LV Images\n",
    "input_images = []\n",
    "mri = cv2.imread('jpg/mri_2.jpg')\n",
    "mri = cv2.cvtColor(mri, cv2.COLOR_BGR2GRAY)\n",
    "\n",
    "ct = cv2.imread('jpg/ct_2.jpg')\n",
    "ct = cv2.cvtColor(ct, cv2.COLOR_BGR2GRAY)\n",
    "\n",
    "input_images.append(mri)\n",
    "input_images.append(ct)\n",
    "\n",
    "# Compute fusion image\n",
    "FU = Fusion(input_images)\n",
    "fusion_img = FU.fuse()\n",
    "# Write fusion image\n",
    "cv2.imwrite('jpg/fusion_2.jpg', fusion_img)"
   ]
  },
  {
   "cell_type": "code",
   "execution_count": 36,
   "metadata": {},
   "outputs": [
    {
     "data": {
      "text/plain": [
       "True"
      ]
     },
     "execution_count": 36,
     "metadata": {},
     "output_type": "execute_result"
    }
   ],
   "source": [
    "# Calling the methods for Siamese on LD Images\n",
    "input_images = []\n",
    "mri = cv2.imread('jpg/mri_3.jpg')\n",
    "mri = cv2.cvtColor(mri, cv2.COLOR_BGR2GRAY)\n",
    "\n",
    "ct = cv2.imread('jpg/ct_3.jpg')\n",
    "ct = cv2.cvtColor(ct, cv2.COLOR_BGR2GRAY)\n",
    "\n",
    "input_images.append(mri)\n",
    "input_images.append(ct)\n",
    "\n",
    "# Compute fusion image\n",
    "FU = Fusion(input_images)\n",
    "fusion_img = FU.fuse()\n",
    "# Write fusion image\n",
    "cv2.imwrite('jpg/fusion_3.jpg', fusion_img)"
   ]
  },
  {
   "cell_type": "markdown",
   "metadata": {},
   "source": [
    "#### Reconstruction Using Inverse Wavelet Transform"
   ]
  },
  {
   "cell_type": "code",
   "execution_count": 37,
   "metadata": {},
   "outputs": [],
   "source": [
    "fusion_0 = cv2.imread('jpg/fusion_0.jpg')\n",
    "fusion_0 = cv2.cvtColor(fusion_0, cv2.COLOR_BGR2GRAY)\n",
    "\n",
    "fusion_1 = cv2.imread('jpg/fusion_1.jpg')\n",
    "fusion_1 = cv2.cvtColor(fusion_1, cv2.COLOR_BGR2GRAY)\n",
    "\n",
    "fusion_2 = cv2.imread('jpg/fusion_2.jpg')\n",
    "fusion_2 = cv2.cvtColor(fusion_2, cv2.COLOR_BGR2GRAY)\n",
    "\n",
    "fusion_3 = cv2.imread('jpg/fusion_3.jpg')\n",
    "fusion_3 = cv2.cvtColor(fusion_3, cv2.COLOR_BGR2GRAY)\n",
    "\n",
    "coeffs=(fusion_0,(fusion_1,fusion_2,fusion_3))"
   ]
  },
  {
   "cell_type": "code",
   "execution_count": 38,
   "metadata": {},
   "outputs": [
    {
     "data": {
      "text/plain": [
       "True"
      ]
     },
     "execution_count": 38,
     "metadata": {},
     "output_type": "execute_result"
    }
   ],
   "source": [
    "fusion=pywt.idwt2(coeffs,'haar')\n",
    "cv2.imwrite('jpg/final_fusion.jpg',fusion)"
   ]
  },
  {
   "cell_type": "code",
   "execution_count": null,
   "metadata": {},
   "outputs": [],
   "source": []
  }
 ],
 "metadata": {
  "kernelspec": {
   "display_name": "Python 3",
   "language": "python",
   "name": "python3"
  },
  "language_info": {
   "codemirror_mode": {
    "name": "ipython",
    "version": 3
   },
   "file_extension": ".py",
   "mimetype": "text/x-python",
   "name": "python",
   "nbconvert_exporter": "python",
   "pygments_lexer": "ipython3",
   "version": "3.7.1"
  }
 },
 "nbformat": 4,
 "nbformat_minor": 2
}
