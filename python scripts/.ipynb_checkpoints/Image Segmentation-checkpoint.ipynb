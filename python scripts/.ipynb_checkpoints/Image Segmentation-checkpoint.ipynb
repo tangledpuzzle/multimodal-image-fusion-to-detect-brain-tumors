{
 "cells": [
  {
   "cell_type": "code",
   "execution_count": 29,
   "metadata": {},
   "outputs": [],
   "source": [
    "import numpy as np\n",
    "import cv2"
   ]
  },
  {
   "cell_type": "code",
   "execution_count": 30,
   "metadata": {},
   "outputs": [],
   "source": [
    "for i in range(1,39):\n",
    "    path=\"../dataset/Fused images to be used for segmentation/\"+str(i)+\".jpg\"\n",
    "    img = cv2.imread(path)\n",
    "    img2 = img.reshape((-1,3))\n",
    "    img2 = np.float32(img2)\n",
    "    criteria = (cv2.TERM_CRITERIA_EPS + cv2.TERM_CRITERIA_MAX_ITER, 20, 1.0)\n",
    "    k = 5 #clusters\n",
    "    attempts = 20\n",
    "    ret,label,center=cv2.kmeans(img2, k, None, criteria, attempts, cv2.KMEANS_PP_CENTERS)\n",
    "    center = np.uint8(center) \n",
    "    res = center[label.flatten()]\n",
    "    res2 = res.reshape((img.shape)) #Reshape labels to the size of original image\n",
    "    save_to_path=\"../dataset/Image Segmentation/\"+str(i)+\".jpg\"\n",
    "    cv2.imwrite(save_to_path, res2)"
   ]
  },
  {
   "cell_type": "code",
   "execution_count": null,
   "metadata": {},
   "outputs": [],
   "source": []
  }
 ],
 "metadata": {
  "kernelspec": {
   "display_name": "Python 3",
   "language": "python",
   "name": "python3"
  },
  "language_info": {
   "codemirror_mode": {
    "name": "ipython",
    "version": 3
   },
   "file_extension": ".py",
   "mimetype": "text/x-python",
   "name": "python",
   "nbconvert_exporter": "python",
   "pygments_lexer": "ipython3",
   "version": "3.7.1"
  }
 },
 "nbformat": 4,
 "nbformat_minor": 4
}
