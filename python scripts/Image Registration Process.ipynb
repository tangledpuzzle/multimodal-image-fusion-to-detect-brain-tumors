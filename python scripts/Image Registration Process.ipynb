{
 "cells": [
  {
   "cell_type": "markdown",
   "metadata": {},
   "source": [
    "#### Procrustes analysis \n",
    "Aims to align 2 sets of points (in other words, 2 shapes) to minimize square distance between them by removing scale, translation and rotation warp components."
   ]
  },
  {
   "cell_type": "code",
   "execution_count": 1,
   "metadata": {},
   "outputs": [],
   "source": [
    "def procrustes(X, Y, scaling=True, reflection='best'):\n",
    "    \"\"\"\n",
    "    A port of MATLAB's `procrustes` function to Numpy.\n",
    "\n",
    "    Procrustes analysis determines a linear transformation (translation,\n",
    "    reflection, orthogonal rotation and scaling) of the points in Y to best\n",
    "    conform them to the points in matrix X, using the sum of squared errors\n",
    "    as the goodness of fit criterion.\n",
    "\n",
    "        d, Z, [tform] = procrustes(X, Y)\n",
    "\n",
    "    Inputs:\n",
    "    ------------\n",
    "    X, Y    \n",
    "        matrices of target and input coordinates. they must have equal\n",
    "        numbers of  points (rows), but Y may have fewer dimensions\n",
    "        (columns) than X.\n",
    "\n",
    "    scaling \n",
    "        if False, the scaling component of the transformation is forced\n",
    "        to 1\n",
    "\n",
    "    reflection\n",
    "        if 'best' (default), the transformation solution may or may not\n",
    "        include a reflection component, depending on which fits the data\n",
    "        best. setting reflection to True or False forces a solution with\n",
    "        reflection or no reflection respectively.\n",
    "\n",
    "    Outputs\n",
    "    ------------\n",
    "    d       \n",
    "        the residual sum of squared errors, normalized according to a\n",
    "        measure of the scale of X, ((X - X.mean(0))**2).sum()\n",
    "\n",
    "    Z\n",
    "        the matrix of transformed Y-values\n",
    "\n",
    "    tform   \n",
    "        a dict specifying the rotation, translation and scaling that\n",
    "        maps X --> Y\n",
    "\n",
    "    \"\"\"\n",
    "\n",
    "    n,m = X.shape\n",
    "    ny,my = Y.shape\n",
    "\n",
    "    muX = X.mean(0)\n",
    "    muY = Y.mean(0)\n",
    "\n",
    "    X0 = X - muX\n",
    "    Y0 = Y - muY\n",
    "\n",
    "    ssX = (X0**2.).sum()\n",
    "    ssY = (Y0**2.).sum()\n",
    "    print(ssX)\n",
    "    print(ssY)\n",
    "\n",
    "    # centred Frobenius norm\n",
    "    normX = np.sqrt(ssX)\n",
    "    normY = np.sqrt(ssY)\n",
    "\n",
    "    # scale to equal (unit) norm\n",
    "    X0 /= normX\n",
    "    Y0 /= normY\n",
    "\n",
    "    if my < m:\n",
    "        Y0 = np.concatenate((Y0, np.zeros(n, m-my)),0)\n",
    "\n",
    "    # optimum rotation matrix of Y\n",
    "    A = np.dot(X0.T, Y0)\n",
    "    U,s,Vt = np.linalg.svd(A,full_matrices=False)\n",
    "    V = Vt.T\n",
    "    T = np.dot(V, U.T)\n",
    "\n",
    "    if reflection is not 'best':\n",
    "\n",
    "        # does the current solution use a reflection?\n",
    "        have_reflection = np.linalg.det(T) < 0\n",
    "\n",
    "        # if that's not what was specified, force another reflection\n",
    "        if reflection != have_reflection:\n",
    "            V[:,-1] *= -1\n",
    "            s[-1] *= -1\n",
    "            T = np.dot(V, U.T)\n",
    "\n",
    "    traceTA = s.sum()\n",
    "\n",
    "    if scaling:\n",
    "\n",
    "        # optimum scaling of Y\n",
    "        b = traceTA * normX / normY\n",
    "\n",
    "        # standarised distance between X and b*Y*T + c\n",
    "        d = 1 - traceTA**2\n",
    "        # transformed coords\n",
    "        Z = normX*traceTA*np.dot(Y0, T) + muX\n",
    "\n",
    "    else:\n",
    "        b = 1\n",
    "        d = 1 + ssY/ssX - 2 * traceTA * normY / normX\n",
    "        Z = normY*np.dot(Y0, T) + muX\n",
    "\n",
    "    # transformation matrix\n",
    "    if my < m:\n",
    "        T = T[:my,:]\n",
    "    c = muX - b*np.dot(muY, T)\n",
    "    #rot =1\n",
    "    #scale=2\n",
    "    #translate=3\n",
    "    #transformation values \n",
    "    tform = {'rotation':T, 'scale':b, 'translation':c}\n",
    "\n",
    "    return d, Z, tform"
   ]
  },
  {
   "cell_type": "code",
   "execution_count": 2,
   "metadata": {},
   "outputs": [],
   "source": [
    "import numpy as np \n",
    "import matplotlib.pyplot as plt\n",
    "import matplotlib.cm as cm \n",
    "import cv2\n",
    "import imageio\n",
    "import scipy.ndimage as ndi"
   ]
  },
  {
   "cell_type": "code",
   "execution_count": 3,
   "metadata": {},
   "outputs": [],
   "source": [
    "ct = cv2.imread('jpg/ct1.jpg', 0)"
   ]
  },
  {
   "cell_type": "markdown",
   "metadata": {},
   "source": [
    "#### Masking"
   ]
  },
  {
   "cell_type": "code",
   "execution_count": 4,
   "metadata": {},
   "outputs": [],
   "source": [
    "# mask2 = ct>30\n",
    "# ct_mask = np.where(mask2, ct, 0)\n",
    "\n",
    "# plt.imshow(ct_mask, cmap='gray')\n",
    "# plt.axis('off')\n",
    "# plt.show()"
   ]
  },
  {
   "cell_type": "markdown",
   "metadata": {},
   "source": [
    "#### Translation\n",
    "Shifting wrt center of mass"
   ]
  },
  {
   "cell_type": "code",
   "execution_count": 5,
   "metadata": {},
   "outputs": [
    {
     "data": {
      "image/png": "[encoded data removed]",
      "text/plain": [
       "<Figure size 432x288 with 1 Axes>"
      ]
     },
     "metadata": {
      "needs_background": "light"
     },
     "output_type": "display_data"
    }
   ],
   "source": [
    "com = ndi.center_of_mass(ct)\n",
    "\n",
    "d0 = 256 - com[0]\n",
    "d1 = 256 - com[1]\n",
    "ct = ndi.shift(ct, shift=[d0, d1])\n",
    "plt.imshow(ct, cmap='gray')\n",
    "plt.axis('off')\n",
    "plt.show()"
   ]
  },
  {
   "cell_type": "markdown",
   "metadata": {},
   "source": [
    "Save CT Image after pre-processing"
   ]
  },
  {
   "cell_type": "code",
   "execution_count": 6,
   "metadata": {},
   "outputs": [],
   "source": [
    "# cv2.imwrite(\"jpg/ct_processed.jpg\", ct) "
   ]
  },
  {
   "cell_type": "code",
   "execution_count": 7,
   "metadata": {},
   "outputs": [],
   "source": [
    "ct_points=[]\n",
    "mri_points=[]"
   ]
  },
  {
   "cell_type": "markdown",
   "metadata": {},
   "source": [
    "Specify the number of points"
   ]
  },
  {
   "cell_type": "code",
   "execution_count": 8,
   "metadata": {},
   "outputs": [
    {
     "name": "stdout",
     "output_type": "stream",
     "text": [
      "5\n"
     ]
    }
   ],
   "source": [
    "n=int(input())"
   ]
  },
  {
   "cell_type": "code",
   "execution_count": 9,
   "metadata": {},
   "outputs": [],
   "source": [
    "# Define Click Function\n",
    "def click_event_ct(event, x, y, flags, param):\n",
    "    if event == cv2.EVENT_LBUTTONDOWN:\n",
    "        print(x,y)\n",
    "        ct_points.append([x,y])"
   ]
  },
  {
   "cell_type": "code",
   "execution_count": 10,
   "metadata": {},
   "outputs": [
    {
     "name": "stdout",
     "output_type": "stream",
     "text": [
      "258 152\n",
      "185 243\n",
      "332 251\n",
      "261 344\n",
      "255 249\n"
     ]
    },
    {
     "data": {
      "text/plain": [
       "[[258, 152], [185, 243], [332, 251], [261, 344], [255, 249]]"
      ]
     },
     "execution_count": 10,
     "metadata": {},
     "output_type": "execute_result"
    }
   ],
   "source": [
    "# ct_fixed = cv2.imread('jpg/ct_processed.jpg',0)\n",
    "\n",
    "cv2.imshow('Image CT', ct)\n",
    "\n",
    "cv2.setMouseCallback('Image CT', click_event_ct)\n",
    "\n",
    "# while True:\n",
    "#     if(len(ct_points)<n):\n",
    "#         continue\n",
    "#     else:\n",
    "#         cv2.waitKey(1)\n",
    "#         cv2.destroyAllWindows()\n",
    "\n",
    "cv2.waitKey(0)#press any key to close all windows\n",
    "cv2.destroyAllWindows()\n",
    "\n",
    "ct_points"
   ]
  },
  {
   "cell_type": "code",
   "execution_count": 11,
   "metadata": {},
   "outputs": [],
   "source": [
    "# Define Click Function\n",
    "def click_event_mri(event, x, y, flags, param):\n",
    "    if event == cv2.EVENT_LBUTTONDOWN:\n",
    "        print(x,y)\n",
    "        mri_points.append([x,y])"
   ]
  },
  {
   "cell_type": "code",
   "execution_count": 12,
   "metadata": {},
   "outputs": [
    {
     "name": "stdout",
     "output_type": "stream",
     "text": [
      "111 22\n",
      "29 129\n",
      "197 128\n",
      "111 243\n",
      "110 141\n"
     ]
    },
    {
     "data": {
      "text/plain": [
       "[[111, 22], [29, 129], [197, 128], [111, 243], [110, 141]]"
      ]
     },
     "execution_count": 12,
     "metadata": {},
     "output_type": "execute_result"
    }
   ],
   "source": [
    "mri_registered = cv2.imread('jpg/mri1.jpg',0)\n",
    "\n",
    "cv2.imshow('Image MRI', mri_registered)\n",
    "\n",
    "cv2.setMouseCallback('Image MRI', click_event_mri)\n",
    "\n",
    "# while True:\n",
    "#     if(len(ct_points)<n):\n",
    "#         continue\n",
    "#     else:\n",
    "#         cv2.waitKey(1)\n",
    "#         cv2.destroyAllWindows()\n",
    "\n",
    "cv2.waitKey(0)#press any key to close all windows\n",
    "cv2.destroyAllWindows()\n",
    "\n",
    "mri_points"
   ]
  },
  {
   "cell_type": "markdown",
   "metadata": {},
   "source": [
    "#### Specifying the co-ordinates"
   ]
  },
  {
   "cell_type": "code",
   "execution_count": 13,
   "metadata": {},
   "outputs": [
    {
     "name": "stdout",
     "output_type": "stream",
     "text": [
      "[[258 152]\n",
      " [185 243]\n",
      " [332 251]\n",
      " [261 344]\n",
      " [255 249]]\n"
     ]
    }
   ],
   "source": [
    "X_pts = np.asarray(ct_points)\n",
    "Y_pts = np.asarray(mri_points)\n",
    "print(X_pts)"
   ]
  },
  {
   "cell_type": "code",
   "execution_count": 14,
   "metadata": {},
   "outputs": [
    {
     "name": "stdout",
     "output_type": "stream",
     "text": [
      "29289.600000000002\n",
      "38644.399999999994\n"
     ]
    }
   ],
   "source": [
    "d,Z_pts,Tform = procrustes(X_pts,Y_pts)"
   ]
  },
  {
   "cell_type": "code",
   "execution_count": 15,
   "metadata": {},
   "outputs": [],
   "source": [
    "R = np.eye(3)"
   ]
  },
  {
   "cell_type": "code",
   "execution_count": 16,
   "metadata": {},
   "outputs": [
    {
     "data": {
      "text/plain": [
       "{'rotation': array([[ 0.99991448,  0.01307771],\n",
       "        [-0.01307771,  0.99991448]]),\n",
       " 'scale': 0.8690488657350578,\n",
       " 'translation': array([162.72946145, 131.30562255])}"
      ]
     },
     "execution_count": 16,
     "metadata": {},
     "output_type": "execute_result"
    }
   ],
   "source": [
    "Tform"
   ]
  },
  {
   "cell_type": "code",
   "execution_count": 17,
   "metadata": {},
   "outputs": [],
   "source": [
    "R[0:2,0:2] = Tform['rotation']"
   ]
  },
  {
   "cell_type": "code",
   "execution_count": 18,
   "metadata": {},
   "outputs": [
    {
     "data": {
      "text/plain": [
       "True"
      ]
     },
     "execution_count": 18,
     "metadata": {},
     "output_type": "execute_result"
    }
   ],
   "source": [
    "S = np.eye(3) * Tform['scale'] \n",
    "S[2,2] = 1\n",
    "t = np.eye(3)\n",
    "t[0:2,2] = Tform['translation']\n",
    "M = np.dot(np.dot(R,S),t.T).T\n",
    "tr_Y_img = cv2.warpAffine(mri_registered,M[0:2,:],(500,500))\n",
    "cv2.imwrite(\"jpg/mri_registered.jpg\", tr_Y_img) "
   ]
  },
  {
   "cell_type": "code",
   "execution_count": 19,
   "metadata": {},
   "outputs": [],
   "source": [
    "aY_pts = np.hstack((Y_pts,np.array(([[1,1,1,1,1]])).T))\n",
    "tr_Y_pts = np.dot(M,aY_pts.T).T"
   ]
  },
  {
   "cell_type": "code",
   "execution_count": 20,
   "metadata": {},
   "outputs": [
    {
     "data": {
      "image/png": "[encoded data removed]",
      "text/plain": [
       "<Figure size 432x288 with 2 Axes>"
      ]
     },
     "metadata": {
      "needs_background": "light"
     },
     "output_type": "display_data"
    }
   ],
   "source": [
    "plt.figure() \n",
    "plt.subplot(1,3,1)\n",
    "plt.imshow(ct,cmap=cm.gray)\n",
    "plt.plot(X_pts[:,0],X_pts[:,1],'bo',markersize=5)\n",
    "# plt.axis('off')\n",
    "# plt.subplot(1,3,2)\n",
    "# plt.imshow(mri_registered,cmap=cm.gray)\n",
    "# plt.plot(Y_pts[:,0],Y_pts[:,1],'ro',markersize=5)\n",
    "# plt.axis('off')\n",
    "plt.subplot(1,3,3)\n",
    "# plt.imshow(ct_fixed,cmap=cm.gray)\n",
    "plt.imshow(tr_Y_img,cmap=cm.gray)\n",
    "# plt.plot(X_pts[:,0],X_pts[:,1],'bo',markersize=5) \n",
    "# plt.plot(Z_pts[:,0],Z_pts[:,1],'ro',markersize=5)\n",
    "plt.plot(tr_Y_pts[:,0],tr_Y_pts[:,1],'gx',markersize=5)\n",
    "# plt.axis('off')\n",
    "plt.show()"
   ]
  },
  {
   "cell_type": "code",
   "execution_count": null,
   "metadata": {},
   "outputs": [],
   "source": []
  },
  {
   "cell_type": "code",
   "execution_count": null,
   "metadata": {},
   "outputs": [],
   "source": []
  }
 ],
 "metadata": {
  "kernelspec": {
   "display_name": "Python 3",
   "language": "python",
   "name": "python3"
  },
  "language_info": {
   "codemirror_mode": {
    "name": "ipython",
    "version": 3
   },
   "file_extension": ".py",
   "mimetype": "text/x-python",
   "name": "python",
   "nbconvert_exporter": "python",
   "pygments_lexer": "ipython3",
   "version": "3.7.1"
  }
 },
 "nbformat": 4,
 "nbformat_minor": 2
}
