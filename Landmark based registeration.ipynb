{
 "cells": [
  {
   "cell_type": "code",
   "execution_count": 2,
   "metadata": {},
   "outputs": [
    {
     "name": "stdout",
     "output_type": "stream",
     "text": [
      "Requirement already satisfied: pydicom in c:\\users\\kushal\\anaconda3\\lib\\site-packages (1.3.0)\n",
      "Requirement already satisfied: opencv-python in c:\\users\\kushal\\anaconda3\\lib\\site-packages (4.1.1.26)\n",
      "Requirement already satisfied: numpy>=1.14.5 in c:\\users\\kushal\\anaconda3\\lib\\site-packages (from opencv-python) (1.15.4)\n",
      "Requirement already satisfied: pillow in c:\\users\\kushal\\anaconda3\\lib\\site-packages (5.4.1)\n",
      "Requirement already satisfied: pandas in c:\\users\\kushal\\anaconda3\\lib\\site-packages (0.23.4)\n",
      "Requirement already satisfied: python-dateutil>=2.5.0 in c:\\users\\kushal\\anaconda3\\lib\\site-packages (from pandas) (2.7.5)\n",
      "Requirement already satisfied: pytz>=2011k in c:\\users\\kushal\\anaconda3\\lib\\site-packages (from pandas) (2018.7)\n",
      "Requirement already satisfied: numpy>=1.9.0 in c:\\users\\kushal\\anaconda3\\lib\\site-packages (from pandas) (1.15.4)\n",
      "Requirement already satisfied: six>=1.5 in c:\\users\\kushal\\anaconda3\\lib\\site-packages (from python-dateutil>=2.5.0->pandas) (1.12.0)\n"
     ]
    }
   ],
   "source": [
    "!pip install pydicom\n",
    "!pip install opencv-python\n",
    "!pip install pillow\n",
    "!pip install pandas "
   ]
  },
  {
   "cell_type": "code",
   "execution_count": 10,
   "metadata": {},
   "outputs": [],
   "source": [
    "import pydicom as dicom\n",
    "import matplotlib.pyplot as plt\n",
    "import os\n",
    "import cv2\n",
    "import PIL \n",
    "import pandas as pd\n",
    "import csv"
   ]
  },
  {
   "cell_type": "code",
   "execution_count": 11,
   "metadata": {},
   "outputs": [
    {
     "name": "stdout",
     "output_type": "stream",
     "text": [
      "0 image converted\n"
     ]
    }
   ],
   "source": [
    "# make it True if you want in PNG format\n",
    "PNG = False\n",
    "\n",
    "# Specify the .dcm folder path\n",
    "folder_path = \"dcm\"\n",
    "\n",
    "# Specify the output jpg/png folder path\n",
    "jpg_folder_path = \"jpg\"\n",
    "\n",
    "images_path = os.listdir(folder_path)\n",
    "for n, image in enumerate(images_path):\n",
    "    ds = dicom.dcmread(os.path.join(folder_path, image))\n",
    "    pixel_array_numpy = ds.pixel_array\n",
    "    if PNG == False:\n",
    "        image = image.replace('.dcm', '.jpg')\n",
    "    else:\n",
    "        image = image.replace('.dcm', '.png')\n",
    "    cv2.imwrite(os.path.join(jpg_folder_path, image), pixel_array_numpy)\n",
    "    if n % 50 == 0:\n",
    "        print('{} image converted'.format(n))"
   ]
  },
  {
   "cell_type": "code",
   "execution_count": null,
   "metadata": {},
   "outputs": [],
   "source": []
  }
 ],
 "metadata": {
  "kernelspec": {
   "display_name": "Python 3",
   "language": "python",
   "name": "python3"
  },
  "language_info": {
   "codemirror_mode": {
    "name": "ipython",
    "version": 3
   },
   "file_extension": ".py",
   "mimetype": "text/x-python",
   "name": "python",
   "nbconvert_exporter": "python",
   "pygments_lexer": "ipython3",
   "version": "3.7.1"
  }
 },
 "nbformat": 4,
 "nbformat_minor": 2
}
