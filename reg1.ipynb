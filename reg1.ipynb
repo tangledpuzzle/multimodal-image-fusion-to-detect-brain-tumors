{
 "cells": [
  {
   "cell_type": "code",
   "execution_count": 1,
   "metadata": {},
   "outputs": [],
   "source": [
    "import SimpleITK as sitk"
   ]
  },
  {
   "cell_type": "code",
   "execution_count": 2,
   "metadata": {},
   "outputs": [],
   "source": [
    "def save_combined_central_slice(fixed, moving, transform, file_name_prefix):\n",
    "    global iteration_number \n",
    "    alpha = 0.7\n",
    "\n",
    "    central_indexes = [i/2 for i in fixed.GetSize()]\n",
    "\n",
    "    moving_transformed = sitk.Resample(moving, fixed, transform, \n",
    "                                       sitk.sitkLinear, 0.0, \n",
    "                                       moving_image.GetPixelIDValue())\n",
    "    #extract the central slice in xy, xz, yz and alpha blend them                                   \n",
    "    combined = [(1.0 - alpha)*fixed[:,:,central_indexes[2]] + \\\n",
    "                   alpha*moving_transformed[:,:,central_indexes[2]],\n",
    "                  (1.0 - alpha)*fixed[:,central_indexes[1],:] + \\\n",
    "                  alpha*moving_transformed[:,central_indexes[1],:],\n",
    "                  (1.0 - alpha)*fixed[central_indexes[0],:,:] + \\\n",
    "                  alpha*moving_transformed[central_indexes[0],:,:]]\n",
    "    #resample the alpha blended images to be isotropic and rescale intensity\n",
    "    #values so that they are in [0,255], this satisfies the requirements \n",
    "    #of the jpg format \n",
    "    combined_isotropic = []\n",
    "    for img in combined:\n",
    "        original_spacing = img.GetSpacing()\n",
    "        original_size = img.GetSize()\n",
    "        min_spacing = min(original_spacing)\n",
    "        new_spacing = [min_spacing, min_spacing]\n",
    "        new_size = [int(round(original_size[0]*(original_spacing[0]/min_spacing))), \n",
    "                    int(round(original_size[1]*(original_spacing[1]/min_spacing)))]\n",
    "        resampled_img = sitk.Resample(img, new_size, sitk.Transform(), \n",
    "                                      sitk.sitkLinear, img.GetOrigin(),\n",
    "                                      new_spacing, img.GetDirection(), 0.0, \n",
    "                                      img.GetPixelIDValue())        \n",
    "        combined_isotropic.append(sitk.Cast(sitk.RescaleIntensity(resampled_img), \n",
    "                                            sitk.sitkUInt8))\n",
    "    #tile the three images into one large image and save using the given file \n",
    "    #name prefix and the iteration number\n",
    "    sitk.WriteImage(sitk.Tile(combined_isotropic, (1,3)), \n",
    "                    file_name_prefix+ format(iteration_number, '03d') + '.jpg')\n",
    "    iteration_number+=1 "
   ]
  },
  {
   "cell_type": "code",
   "execution_count": 3,
   "metadata": {},
   "outputs": [],
   "source": [
    "fixed_image =  sitk.ReadImage(\"mri/mri.mhd\", sitk.sitkFloat32)"
   ]
  },
  {
   "cell_type": "code",
   "execution_count": 4,
   "metadata": {},
   "outputs": [],
   "source": [
    "moving_image = sitk.ReadImage(\"ct/ct.mhd\", sitk.sitkFloat32) "
   ]
  },
  {
   "cell_type": "code",
   "execution_count": 5,
   "metadata": {},
   "outputs": [],
   "source": [
    "transform = sitk.CenteredTransformInitializer(fixed_image, \n",
    "                                              moving_image, \n",
    "                                              sitk.Euler3DTransform(), \n",
    "                                              sitk.CenteredTransformInitializerFilter.GEOMETRY)"
   ]
  },
  {
   "cell_type": "code",
   "execution_count": 6,
   "metadata": {},
   "outputs": [],
   "source": [
    "registration_method = sitk.ImageRegistrationMethod()\n",
    "registration_method.SetMetricAsMattesMutualInformation(numberOfHistogramBins=50)\n",
    "registration_method.SetMetricSamplingStrategy(registration_method.RANDOM)\n",
    "registration_method.SetMetricSamplingPercentage(0.01)\n",
    "registration_method.SetInterpolator(sitk.sitkLinear)\n",
    "registration_method.SetOptimizerAsGradientDescent(learningRate=1.0, \n",
    "                                                  numberOfIterations=100, \n",
    "                                                  convergenceMinimumValue=1e-6, \n",
    "                                                  convergenceWindowSize=10)\n",
    "registration_method.SetOptimizerScalesFromPhysicalShift()\n",
    "registration_method.SetShrinkFactorsPerLevel(shrinkFactors = [4,2,1])\n",
    "registration_method.SetSmoothingSigmasPerLevel(smoothingSigmas=[2,1,0])\n",
    "registration_method.SmoothingSigmasAreSpecifiedInPhysicalUnitsOn()\n",
    "registration_method.SetInitialTransform(transform)"
   ]
  },
  {
   "cell_type": "code",
   "execution_count": 8,
   "metadata": {},
   "outputs": [
    {
     "data": {
      "text/plain": [
       "0"
      ]
     },
     "execution_count": 8,
     "metadata": {},
     "output_type": "execute_result"
    }
   ],
   "source": [
    "global iteration_number\n",
    "iteration_number = 0\n",
    "registration_method.AddCommand(sitk.sitkIterationEvent, \n",
    "                               lambda: save_combined_central_slice(fixed_image,\n",
    "                                                                   moving_image,\n",
    "                                                                   transform, \n",
    "                                                                   'output/iteration'))"
   ]
  },
  {
   "cell_type": "code",
   "execution_count": 9,
   "metadata": {},
   "outputs": [
    {
     "ename": "IndexError",
     "evalue": "invalid index",
     "output_type": "error",
     "traceback": [
      "\u001b[1;31m---------------------------------------------------------------------------\u001b[0m",
      "\u001b[1;31mIndexError\u001b[0m                                Traceback (most recent call last)",
      "\u001b[1;32m<ipython-input-7-a01cf25ab070>\u001b[0m in \u001b[0;36m<lambda>\u001b[1;34m()\u001b[0m\n\u001b[0;32m      5\u001b[0m                                                                    \u001b[0mmoving_image\u001b[0m\u001b[1;33m,\u001b[0m\u001b[1;33m\u001b[0m\u001b[1;33m\u001b[0m\u001b[0m\n\u001b[0;32m      6\u001b[0m                                                                    \u001b[0mtransform\u001b[0m\u001b[1;33m,\u001b[0m\u001b[1;33m\u001b[0m\u001b[1;33m\u001b[0m\u001b[0m\n\u001b[1;32m----> 7\u001b[1;33m                                                                    'output/iteration'))\n\u001b[0m\u001b[0;32m      8\u001b[0m \u001b[1;33m\u001b[0m\u001b[0m\n\u001b[0;32m      9\u001b[0m \u001b[0mregistration_method\u001b[0m\u001b[1;33m.\u001b[0m\u001b[0mExecute\u001b[0m\u001b[1;33m(\u001b[0m\u001b[0mfixed_image\u001b[0m\u001b[1;33m,\u001b[0m \u001b[0mmoving_image\u001b[0m\u001b[1;33m)\u001b[0m\u001b[1;33m\u001b[0m\u001b[1;33m\u001b[0m\u001b[0m\n",
      "\u001b[1;32m<ipython-input-2-8dfb59ff592b>\u001b[0m in \u001b[0;36msave_combined_central_slice\u001b[1;34m(fixed, moving, transform, file_name_prefix)\u001b[0m\n\u001b[0;32m      9\u001b[0m                                        moving_image.GetPixelIDValue())\n\u001b[0;32m     10\u001b[0m     \u001b[1;31m#extract the central slice in xy, xz, yz and alpha blend them\u001b[0m\u001b[1;33m\u001b[0m\u001b[1;33m\u001b[0m\u001b[1;33m\u001b[0m\u001b[0m\n\u001b[1;32m---> 11\u001b[1;33m     combined = [(1.0 - alpha)*fixed[:,:,central_indexes[2]] + \\\n\u001b[0m\u001b[0;32m     12\u001b[0m                    \u001b[0malpha\u001b[0m\u001b[1;33m*\u001b[0m\u001b[0mmoving_transformed\u001b[0m\u001b[1;33m[\u001b[0m\u001b[1;33m:\u001b[0m\u001b[1;33m,\u001b[0m\u001b[1;33m:\u001b[0m\u001b[1;33m,\u001b[0m\u001b[0mcentral_indexes\u001b[0m\u001b[1;33m[\u001b[0m\u001b[1;36m2\u001b[0m\u001b[1;33m]\u001b[0m\u001b[1;33m]\u001b[0m\u001b[1;33m,\u001b[0m\u001b[1;33m\u001b[0m\u001b[1;33m\u001b[0m\u001b[0m\n\u001b[0;32m     13\u001b[0m                   \u001b[1;33m(\u001b[0m\u001b[1;36m1.0\u001b[0m \u001b[1;33m-\u001b[0m \u001b[0malpha\u001b[0m\u001b[1;33m)\u001b[0m\u001b[1;33m*\u001b[0m\u001b[0mfixed\u001b[0m\u001b[1;33m[\u001b[0m\u001b[1;33m:\u001b[0m\u001b[1;33m,\u001b[0m\u001b[0mcentral_indexes\u001b[0m\u001b[1;33m[\u001b[0m\u001b[1;36m1\u001b[0m\u001b[1;33m]\u001b[0m\u001b[1;33m,\u001b[0m\u001b[1;33m:\u001b[0m\u001b[1;33m]\u001b[0m \u001b[1;33m+\u001b[0m\u001b[0;31m \u001b[0m\u001b[0;31m\\\u001b[0m\u001b[1;33m\u001b[0m\u001b[1;33m\u001b[0m\u001b[0m\n",
      "\u001b[1;32mc:\\users\\hp pc\\appdata\\local\\programs\\python\\python37\\lib\\site-packages\\SimpleITK\\SimpleITK.py\u001b[0m in \u001b[0;36m__getitem__\u001b[1;34m(self, idx)\u001b[0m\n\u001b[0;32m   4658\u001b[0m \u001b[1;33m\u001b[0m\u001b[0m\n\u001b[0;32m   4659\u001b[0m     \u001b[1;31m# the index parameter was an invalid set of objects\u001b[0m\u001b[1;33m\u001b[0m\u001b[1;33m\u001b[0m\u001b[1;33m\u001b[0m\u001b[0m\n\u001b[1;32m-> 4660\u001b[1;33m         \u001b[1;32mraise\u001b[0m \u001b[0mIndexError\u001b[0m\u001b[1;33m(\u001b[0m\u001b[1;34m\"invalid index\"\u001b[0m\u001b[1;33m)\u001b[0m\u001b[1;33m\u001b[0m\u001b[1;33m\u001b[0m\u001b[0m\n\u001b[0m\u001b[0;32m   4661\u001b[0m \u001b[1;33m\u001b[0m\u001b[0m\n\u001b[0;32m   4662\u001b[0m \u001b[1;33m\u001b[0m\u001b[0m\n",
      "\u001b[1;31mIndexError\u001b[0m: invalid index"
     ]
    },
    {
     "ename": "RuntimeError",
     "evalue": "Exception thrown in SimpleITK ImageRegistrationMethod_Execute: D:\\a\\1\\sitk\\Wrapping\\Python\\sitkPyCommand.cxx:135:\nsitk::ERROR: There was an error executing the Python Callable.",
     "output_type": "error",
     "traceback": [
      "\u001b[1;31m---------------------------------------------------------------------------\u001b[0m",
      "\u001b[1;31mRuntimeError\u001b[0m                              Traceback (most recent call last)",
      "\u001b[1;32m<ipython-input-9-a5b5f0946a22>\u001b[0m in \u001b[0;36m<module>\u001b[1;34m\u001b[0m\n\u001b[1;32m----> 1\u001b[1;33m \u001b[0mregistration_method\u001b[0m\u001b[1;33m.\u001b[0m\u001b[0mExecute\u001b[0m\u001b[1;33m(\u001b[0m\u001b[0mfixed_image\u001b[0m\u001b[1;33m,\u001b[0m \u001b[0mmoving_image\u001b[0m\u001b[1;33m)\u001b[0m\u001b[1;33m\u001b[0m\u001b[1;33m\u001b[0m\u001b[0m\n\u001b[0m",
      "\u001b[1;32mc:\\users\\hp pc\\appdata\\local\\programs\\python\\python37\\lib\\site-packages\\SimpleITK\\SimpleITK.py\u001b[0m in \u001b[0;36mExecute\u001b[1;34m(self, fixed, moving)\u001b[0m\n\u001b[0;32m  11026\u001b[0m \u001b[1;33m\u001b[0m\u001b[0m\n\u001b[0;32m  11027\u001b[0m         \"\"\"\n\u001b[1;32m> 11028\u001b[1;33m         \u001b[1;32mreturn\u001b[0m \u001b[0m_SimpleITK\u001b[0m\u001b[1;33m.\u001b[0m\u001b[0mImageRegistrationMethod_Execute\u001b[0m\u001b[1;33m(\u001b[0m\u001b[0mself\u001b[0m\u001b[1;33m,\u001b[0m \u001b[0mfixed\u001b[0m\u001b[1;33m,\u001b[0m \u001b[0mmoving\u001b[0m\u001b[1;33m)\u001b[0m\u001b[1;33m\u001b[0m\u001b[1;33m\u001b[0m\u001b[0m\n\u001b[0m\u001b[0;32m  11029\u001b[0m \u001b[1;33m\u001b[0m\u001b[0m\n\u001b[0;32m  11030\u001b[0m \u001b[1;33m\u001b[0m\u001b[0m\n",
      "\u001b[1;31mRuntimeError\u001b[0m: Exception thrown in SimpleITK ImageRegistrationMethod_Execute: D:\\a\\1\\sitk\\Wrapping\\Python\\sitkPyCommand.cxx:135:\nsitk::ERROR: There was an error executing the Python Callable."
     ]
    }
   ],
   "source": [
    "registration_method.Execute(fixed_image, moving_image)"
   ]
  },
  {
   "cell_type": "code",
   "execution_count": null,
   "metadata": {},
   "outputs": [],
   "source": []
  }
 ],
 "metadata": {
  "kernelspec": {
   "display_name": "Python 3",
   "language": "python",
   "name": "python3"
  },
  "language_info": {
   "codemirror_mode": {
    "name": "ipython",
    "version": 3
   },
   "file_extension": ".py",
   "mimetype": "text/x-python",
   "name": "python",
   "nbconvert_exporter": "python",
   "pygments_lexer": "ipython3",
   "version": "3.7.1"
  }
 },
 "nbformat": 4,
 "nbformat_minor": 2
}
